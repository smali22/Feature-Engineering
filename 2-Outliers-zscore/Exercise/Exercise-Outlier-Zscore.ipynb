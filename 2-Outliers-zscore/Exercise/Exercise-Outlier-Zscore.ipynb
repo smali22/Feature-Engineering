{
 "cells": [
  {
   "cell_type": "markdown",
   "id": "6f1039b7-c382-45b2-b4e7-c1508e4f612b",
   "metadata": {},
   "source": [
    "#### You are given bhp.csv which contains property prices in the city of banglore, India. You need to examine price_per_sqft column and do following,"
   ]
  },
  {
   "cell_type": "code",
   "execution_count": 1,
   "id": "522bac64-0118-46ee-9d9e-e874b5374ab1",
   "metadata": {},
   "outputs": [],
   "source": [
    "import pandas as pd\n",
    "import numpy as np\n",
    "%matplotlib inline\n",
    "import matplotlib.pyplot as plt"
   ]
  },
  {
   "cell_type": "code",
   "execution_count": 3,
   "id": "86270d56-058c-4605-a68a-ae9eeb4f4433",
   "metadata": {},
   "outputs": [
    {
     "data": {
      "text/html": [
       "<div>\n",
       "<style scoped>\n",
       "    .dataframe tbody tr th:only-of-type {\n",
       "        vertical-align: middle;\n",
       "    }\n",
       "\n",
       "    .dataframe tbody tr th {\n",
       "        vertical-align: top;\n",
       "    }\n",
       "\n",
       "    .dataframe thead th {\n",
       "        text-align: right;\n",
       "    }\n",
       "</style>\n",
       "<table border=\"1\" class=\"dataframe\">\n",
       "  <thead>\n",
       "    <tr style=\"text-align: right;\">\n",
       "      <th></th>\n",
       "      <th>location</th>\n",
       "      <th>size</th>\n",
       "      <th>total_sqft</th>\n",
       "      <th>bath</th>\n",
       "      <th>price</th>\n",
       "      <th>bhk</th>\n",
       "      <th>price_per_sqft</th>\n",
       "    </tr>\n",
       "  </thead>\n",
       "  <tbody>\n",
       "    <tr>\n",
       "      <th>0</th>\n",
       "      <td>Electronic City Phase II</td>\n",
       "      <td>2 BHK</td>\n",
       "      <td>1056.0</td>\n",
       "      <td>2.0</td>\n",
       "      <td>39.07</td>\n",
       "      <td>2</td>\n",
       "      <td>3699</td>\n",
       "    </tr>\n",
       "    <tr>\n",
       "      <th>1</th>\n",
       "      <td>Chikka Tirupathi</td>\n",
       "      <td>4 Bedroom</td>\n",
       "      <td>2600.0</td>\n",
       "      <td>5.0</td>\n",
       "      <td>120.00</td>\n",
       "      <td>4</td>\n",
       "      <td>4615</td>\n",
       "    </tr>\n",
       "    <tr>\n",
       "      <th>2</th>\n",
       "      <td>Uttarahalli</td>\n",
       "      <td>3 BHK</td>\n",
       "      <td>1440.0</td>\n",
       "      <td>2.0</td>\n",
       "      <td>62.00</td>\n",
       "      <td>3</td>\n",
       "      <td>4305</td>\n",
       "    </tr>\n",
       "    <tr>\n",
       "      <th>3</th>\n",
       "      <td>Lingadheeranahalli</td>\n",
       "      <td>3 BHK</td>\n",
       "      <td>1521.0</td>\n",
       "      <td>3.0</td>\n",
       "      <td>95.00</td>\n",
       "      <td>3</td>\n",
       "      <td>6245</td>\n",
       "    </tr>\n",
       "    <tr>\n",
       "      <th>4</th>\n",
       "      <td>Kothanur</td>\n",
       "      <td>2 BHK</td>\n",
       "      <td>1200.0</td>\n",
       "      <td>2.0</td>\n",
       "      <td>51.00</td>\n",
       "      <td>2</td>\n",
       "      <td>4250</td>\n",
       "    </tr>\n",
       "  </tbody>\n",
       "</table>\n",
       "</div>"
      ],
      "text/plain": [
       "                   location       size  total_sqft  bath   price  bhk  \\\n",
       "0  Electronic City Phase II      2 BHK      1056.0   2.0   39.07    2   \n",
       "1          Chikka Tirupathi  4 Bedroom      2600.0   5.0  120.00    4   \n",
       "2               Uttarahalli      3 BHK      1440.0   2.0   62.00    3   \n",
       "3        Lingadheeranahalli      3 BHK      1521.0   3.0   95.00    3   \n",
       "4                  Kothanur      2 BHK      1200.0   2.0   51.00    2   \n",
       "\n",
       "   price_per_sqft  \n",
       "0            3699  \n",
       "1            4615  \n",
       "2            4305  \n",
       "3            6245  \n",
       "4            4250  "
      ]
     },
     "execution_count": 3,
     "metadata": {},
     "output_type": "execute_result"
    }
   ],
   "source": [
    "df = pd.read_csv('bhp.csv')\n",
    "df.head()"
   ]
  },
  {
   "cell_type": "code",
   "execution_count": 5,
   "id": "a7975212-4d74-4b90-97ae-ba17897db133",
   "metadata": {},
   "outputs": [
    {
     "data": {
      "text/plain": [
       "(13200, 7)"
      ]
     },
     "execution_count": 5,
     "metadata": {},
     "output_type": "execute_result"
    }
   ],
   "source": [
    "df.shape"
   ]
  },
  {
   "cell_type": "code",
   "execution_count": 7,
   "id": "5b0796d8-ab65-4d22-b490-e7007870f1d5",
   "metadata": {},
   "outputs": [
    {
     "data": {
      "text/html": [
       "<div>\n",
       "<style scoped>\n",
       "    .dataframe tbody tr th:only-of-type {\n",
       "        vertical-align: middle;\n",
       "    }\n",
       "\n",
       "    .dataframe tbody tr th {\n",
       "        vertical-align: top;\n",
       "    }\n",
       "\n",
       "    .dataframe thead th {\n",
       "        text-align: right;\n",
       "    }\n",
       "</style>\n",
       "<table border=\"1\" class=\"dataframe\">\n",
       "  <thead>\n",
       "    <tr style=\"text-align: right;\">\n",
       "      <th></th>\n",
       "      <th>total_sqft</th>\n",
       "      <th>bath</th>\n",
       "      <th>price</th>\n",
       "      <th>bhk</th>\n",
       "      <th>price_per_sqft</th>\n",
       "    </tr>\n",
       "  </thead>\n",
       "  <tbody>\n",
       "    <tr>\n",
       "      <th>count</th>\n",
       "      <td>13200.000000</td>\n",
       "      <td>13200.000000</td>\n",
       "      <td>13200.000000</td>\n",
       "      <td>13200.000000</td>\n",
       "      <td>1.320000e+04</td>\n",
       "    </tr>\n",
       "    <tr>\n",
       "      <th>mean</th>\n",
       "      <td>1555.302783</td>\n",
       "      <td>2.691136</td>\n",
       "      <td>112.276178</td>\n",
       "      <td>2.800833</td>\n",
       "      <td>7.920337e+03</td>\n",
       "    </tr>\n",
       "    <tr>\n",
       "      <th>std</th>\n",
       "      <td>1237.323445</td>\n",
       "      <td>1.338915</td>\n",
       "      <td>149.175995</td>\n",
       "      <td>1.292843</td>\n",
       "      <td>1.067272e+05</td>\n",
       "    </tr>\n",
       "    <tr>\n",
       "      <th>min</th>\n",
       "      <td>1.000000</td>\n",
       "      <td>1.000000</td>\n",
       "      <td>8.000000</td>\n",
       "      <td>1.000000</td>\n",
       "      <td>2.670000e+02</td>\n",
       "    </tr>\n",
       "    <tr>\n",
       "      <th>25%</th>\n",
       "      <td>1100.000000</td>\n",
       "      <td>2.000000</td>\n",
       "      <td>50.000000</td>\n",
       "      <td>2.000000</td>\n",
       "      <td>4.267000e+03</td>\n",
       "    </tr>\n",
       "    <tr>\n",
       "      <th>50%</th>\n",
       "      <td>1275.000000</td>\n",
       "      <td>2.000000</td>\n",
       "      <td>71.850000</td>\n",
       "      <td>3.000000</td>\n",
       "      <td>5.438000e+03</td>\n",
       "    </tr>\n",
       "    <tr>\n",
       "      <th>75%</th>\n",
       "      <td>1672.000000</td>\n",
       "      <td>3.000000</td>\n",
       "      <td>120.000000</td>\n",
       "      <td>3.000000</td>\n",
       "      <td>7.317000e+03</td>\n",
       "    </tr>\n",
       "    <tr>\n",
       "      <th>max</th>\n",
       "      <td>52272.000000</td>\n",
       "      <td>40.000000</td>\n",
       "      <td>3600.000000</td>\n",
       "      <td>43.000000</td>\n",
       "      <td>1.200000e+07</td>\n",
       "    </tr>\n",
       "  </tbody>\n",
       "</table>\n",
       "</div>"
      ],
      "text/plain": [
       "         total_sqft          bath         price           bhk  price_per_sqft\n",
       "count  13200.000000  13200.000000  13200.000000  13200.000000    1.320000e+04\n",
       "mean    1555.302783      2.691136    112.276178      2.800833    7.920337e+03\n",
       "std     1237.323445      1.338915    149.175995      1.292843    1.067272e+05\n",
       "min        1.000000      1.000000      8.000000      1.000000    2.670000e+02\n",
       "25%     1100.000000      2.000000     50.000000      2.000000    4.267000e+03\n",
       "50%     1275.000000      2.000000     71.850000      3.000000    5.438000e+03\n",
       "75%     1672.000000      3.000000    120.000000      3.000000    7.317000e+03\n",
       "max    52272.000000     40.000000   3600.000000     43.000000    1.200000e+07"
      ]
     },
     "execution_count": 7,
     "metadata": {},
     "output_type": "execute_result"
    }
   ],
   "source": [
    "df.describe()"
   ]
  },
  {
   "cell_type": "code",
   "execution_count": 9,
   "id": "ae9ef3af-c98a-457c-bfdc-cad4f4dff850",
   "metadata": {},
   "outputs": [
    {
     "data": {
      "text/plain": [
       "(1366.184, 50959.36200000098)"
      ]
     },
     "execution_count": 9,
     "metadata": {},
     "output_type": "execute_result"
    }
   ],
   "source": [
    "lowerbound, upperbound = df['price_per_sqft'].quantile([0.001,0.999])\n",
    "lowerbound, upperbound"
   ]
  },
  {
   "cell_type": "code",
   "execution_count": 11,
   "id": "e05116e1-d72a-4073-9f5d-3af8b71c9e0b",
   "metadata": {},
   "outputs": [
    {
     "data": {
      "text/html": [
       "<div>\n",
       "<style scoped>\n",
       "    .dataframe tbody tr th:only-of-type {\n",
       "        vertical-align: middle;\n",
       "    }\n",
       "\n",
       "    .dataframe tbody tr th {\n",
       "        vertical-align: top;\n",
       "    }\n",
       "\n",
       "    .dataframe thead th {\n",
       "        text-align: right;\n",
       "    }\n",
       "</style>\n",
       "<table border=\"1\" class=\"dataframe\">\n",
       "  <thead>\n",
       "    <tr style=\"text-align: right;\">\n",
       "      <th></th>\n",
       "      <th>location</th>\n",
       "      <th>size</th>\n",
       "      <th>total_sqft</th>\n",
       "      <th>bath</th>\n",
       "      <th>price</th>\n",
       "      <th>bhk</th>\n",
       "      <th>price_per_sqft</th>\n",
       "    </tr>\n",
       "  </thead>\n",
       "  <tbody>\n",
       "    <tr>\n",
       "      <th>1005</th>\n",
       "      <td>other</td>\n",
       "      <td>1 BHK</td>\n",
       "      <td>15.0</td>\n",
       "      <td>1.0</td>\n",
       "      <td>30.0</td>\n",
       "      <td>1</td>\n",
       "      <td>200000</td>\n",
       "    </tr>\n",
       "    <tr>\n",
       "      <th>9144</th>\n",
       "      <td>other</td>\n",
       "      <td>4 Bedroom</td>\n",
       "      <td>10961.0</td>\n",
       "      <td>4.0</td>\n",
       "      <td>80.0</td>\n",
       "      <td>4</td>\n",
       "      <td>729</td>\n",
       "    </tr>\n",
       "    <tr>\n",
       "      <th>6356</th>\n",
       "      <td>Bommenahalli</td>\n",
       "      <td>4 Bedroom</td>\n",
       "      <td>2940.0</td>\n",
       "      <td>3.0</td>\n",
       "      <td>2250.0</td>\n",
       "      <td>4</td>\n",
       "      <td>76530</td>\n",
       "    </tr>\n",
       "    <tr>\n",
       "      <th>798</th>\n",
       "      <td>other</td>\n",
       "      <td>4 Bedroom</td>\n",
       "      <td>10961.0</td>\n",
       "      <td>4.0</td>\n",
       "      <td>80.0</td>\n",
       "      <td>4</td>\n",
       "      <td>729</td>\n",
       "    </tr>\n",
       "    <tr>\n",
       "      <th>1867</th>\n",
       "      <td>other</td>\n",
       "      <td>3 Bedroom</td>\n",
       "      <td>52272.0</td>\n",
       "      <td>2.0</td>\n",
       "      <td>140.0</td>\n",
       "      <td>3</td>\n",
       "      <td>267</td>\n",
       "    </tr>\n",
       "    <tr>\n",
       "      <th>9436</th>\n",
       "      <td>Indira Nagar</td>\n",
       "      <td>4 Bedroom</td>\n",
       "      <td>2400.0</td>\n",
       "      <td>5.0</td>\n",
       "      <td>1250.0</td>\n",
       "      <td>4</td>\n",
       "      <td>52083</td>\n",
       "    </tr>\n",
       "    <tr>\n",
       "      <th>7575</th>\n",
       "      <td>other</td>\n",
       "      <td>1 BHK</td>\n",
       "      <td>425.0</td>\n",
       "      <td>1.0</td>\n",
       "      <td>750.0</td>\n",
       "      <td>1</td>\n",
       "      <td>176470</td>\n",
       "    </tr>\n",
       "    <tr>\n",
       "      <th>7799</th>\n",
       "      <td>other</td>\n",
       "      <td>4 BHK</td>\n",
       "      <td>2000.0</td>\n",
       "      <td>3.0</td>\n",
       "      <td>1063.0</td>\n",
       "      <td>4</td>\n",
       "      <td>53150</td>\n",
       "    </tr>\n",
       "    <tr>\n",
       "      <th>8300</th>\n",
       "      <td>Kengeri</td>\n",
       "      <td>1 BHK</td>\n",
       "      <td>1200.0</td>\n",
       "      <td>1.0</td>\n",
       "      <td>14.0</td>\n",
       "      <td>1</td>\n",
       "      <td>1166</td>\n",
       "    </tr>\n",
       "    <tr>\n",
       "      <th>4044</th>\n",
       "      <td>Sarjapur  Road</td>\n",
       "      <td>4 Bedroom</td>\n",
       "      <td>1.0</td>\n",
       "      <td>4.0</td>\n",
       "      <td>120.0</td>\n",
       "      <td>4</td>\n",
       "      <td>12000000</td>\n",
       "    </tr>\n",
       "  </tbody>\n",
       "</table>\n",
       "</div>"
      ],
      "text/plain": [
       "            location       size  total_sqft  bath   price  bhk  price_per_sqft\n",
       "1005           other      1 BHK        15.0   1.0    30.0    1          200000\n",
       "9144           other  4 Bedroom     10961.0   4.0    80.0    4             729\n",
       "6356    Bommenahalli  4 Bedroom      2940.0   3.0  2250.0    4           76530\n",
       "798            other  4 Bedroom     10961.0   4.0    80.0    4             729\n",
       "1867           other  3 Bedroom     52272.0   2.0   140.0    3             267\n",
       "9436    Indira Nagar  4 Bedroom      2400.0   5.0  1250.0    4           52083\n",
       "7575           other      1 BHK       425.0   1.0   750.0    1          176470\n",
       "7799           other      4 BHK      2000.0   3.0  1063.0    4           53150\n",
       "8300         Kengeri      1 BHK      1200.0   1.0    14.0    1            1166\n",
       "4044  Sarjapur  Road  4 Bedroom         1.0   4.0   120.0    4        12000000"
      ]
     },
     "execution_count": 11,
     "metadata": {},
     "output_type": "execute_result"
    }
   ],
   "source": [
    "outliers = df[(df['price_per_sqft']>upperbound) | (df['price_per_sqft']<lowerbound)]\n",
    "outliers.sample(10)"
   ]
  },
  {
   "cell_type": "code",
   "execution_count": 13,
   "id": "de9d29c0-b962-404f-a2b7-e52e4f74526b",
   "metadata": {},
   "outputs": [
    {
     "data": {
      "text/plain": [
       "(13172, 7)"
      ]
     },
     "execution_count": 13,
     "metadata": {},
     "output_type": "execute_result"
    }
   ],
   "source": [
    "out2 = df[(df['price_per_sqft']<upperbound) & (df['price_per_sqft']>lowerbound)]\n",
    "out2.shape"
   ]
  },
  {
   "cell_type": "code",
   "execution_count": 17,
   "id": "2e60b82c-626d-4d3e-a9f5-2ddf9c250c90",
   "metadata": {},
   "outputs": [
    {
     "data": {
      "text/plain": [
       "28"
      ]
     },
     "execution_count": 17,
     "metadata": {},
     "output_type": "execute_result"
    }
   ],
   "source": [
    "df.shape[0] - out2.shape[0]"
   ]
  },
  {
   "cell_type": "markdown",
   "id": "3c0a1ac2-d76b-42fb-b085-b807ad10f0c2",
   "metadata": {},
   "source": [
    "#### Now remove outliers using 4 standard deviation"
   ]
  },
  {
   "cell_type": "code",
   "execution_count": 19,
   "id": "1d7a6d42-a262-4ca0-9b1f-7b6bdbeb856f",
   "metadata": {},
   "outputs": [
    {
     "data": {
      "text/plain": [
       "(23227.73653589429, -9900.429065502549)"
      ]
     },
     "execution_count": 19,
     "metadata": {},
     "output_type": "execute_result"
    }
   ],
   "source": [
    "upperlimit = out2.price_per_sqft.mean() + 4*out2.price_per_sqft.std()\n",
    "lowerlimit = out2.price_per_sqft.mean() - 4*out2.price_per_sqft.std()\n",
    "upperlimit, lowerlimit"
   ]
  },
  {
   "cell_type": "code",
   "execution_count": 21,
   "id": "c0985bb8-717c-40ef-b741-16e51f8cd064",
   "metadata": {},
   "outputs": [
    {
     "data": {
      "text/html": [
       "<div>\n",
       "<style scoped>\n",
       "    .dataframe tbody tr th:only-of-type {\n",
       "        vertical-align: middle;\n",
       "    }\n",
       "\n",
       "    .dataframe tbody tr th {\n",
       "        vertical-align: top;\n",
       "    }\n",
       "\n",
       "    .dataframe thead th {\n",
       "        text-align: right;\n",
       "    }\n",
       "</style>\n",
       "<table border=\"1\" class=\"dataframe\">\n",
       "  <thead>\n",
       "    <tr style=\"text-align: right;\">\n",
       "      <th></th>\n",
       "      <th>location</th>\n",
       "      <th>size</th>\n",
       "      <th>total_sqft</th>\n",
       "      <th>bath</th>\n",
       "      <th>price</th>\n",
       "      <th>bhk</th>\n",
       "      <th>price_per_sqft</th>\n",
       "    </tr>\n",
       "  </thead>\n",
       "  <tbody>\n",
       "    <tr>\n",
       "      <th>3420</th>\n",
       "      <td>other</td>\n",
       "      <td>3 Bedroom</td>\n",
       "      <td>1350.0</td>\n",
       "      <td>3.0</td>\n",
       "      <td>380.0</td>\n",
       "      <td>3</td>\n",
       "      <td>28148</td>\n",
       "    </tr>\n",
       "    <tr>\n",
       "      <th>6709</th>\n",
       "      <td>Malleshwaram</td>\n",
       "      <td>4 Bedroom</td>\n",
       "      <td>4000.0</td>\n",
       "      <td>4.0</td>\n",
       "      <td>1100.0</td>\n",
       "      <td>4</td>\n",
       "      <td>27500</td>\n",
       "    </tr>\n",
       "    <tr>\n",
       "      <th>2618</th>\n",
       "      <td>Malleshwaram</td>\n",
       "      <td>7 Bedroom</td>\n",
       "      <td>3000.0</td>\n",
       "      <td>4.0</td>\n",
       "      <td>900.0</td>\n",
       "      <td>7</td>\n",
       "      <td>30000</td>\n",
       "    </tr>\n",
       "    <tr>\n",
       "      <th>10536</th>\n",
       "      <td>other</td>\n",
       "      <td>4 Bedroom</td>\n",
       "      <td>2400.0</td>\n",
       "      <td>4.0</td>\n",
       "      <td>595.0</td>\n",
       "      <td>4</td>\n",
       "      <td>24791</td>\n",
       "    </tr>\n",
       "    <tr>\n",
       "      <th>1548</th>\n",
       "      <td>Uttarahalli</td>\n",
       "      <td>5 Bedroom</td>\n",
       "      <td>400.0</td>\n",
       "      <td>5.0</td>\n",
       "      <td>200.0</td>\n",
       "      <td>5</td>\n",
       "      <td>50000</td>\n",
       "    </tr>\n",
       "    <tr>\n",
       "      <th>5909</th>\n",
       "      <td>other</td>\n",
       "      <td>5 Bedroom</td>\n",
       "      <td>1240.0</td>\n",
       "      <td>5.0</td>\n",
       "      <td>300.0</td>\n",
       "      <td>5</td>\n",
       "      <td>24193</td>\n",
       "    </tr>\n",
       "    <tr>\n",
       "      <th>1721</th>\n",
       "      <td>other</td>\n",
       "      <td>5 Bedroom</td>\n",
       "      <td>2400.0</td>\n",
       "      <td>5.0</td>\n",
       "      <td>625.0</td>\n",
       "      <td>5</td>\n",
       "      <td>26041</td>\n",
       "    </tr>\n",
       "    <tr>\n",
       "      <th>8861</th>\n",
       "      <td>Cunningham Road</td>\n",
       "      <td>5 Bedroom</td>\n",
       "      <td>2925.0</td>\n",
       "      <td>5.0</td>\n",
       "      <td>936.0</td>\n",
       "      <td>5</td>\n",
       "      <td>32000</td>\n",
       "    </tr>\n",
       "    <tr>\n",
       "      <th>3340</th>\n",
       "      <td>other</td>\n",
       "      <td>19 BHK</td>\n",
       "      <td>2000.0</td>\n",
       "      <td>16.0</td>\n",
       "      <td>490.0</td>\n",
       "      <td>19</td>\n",
       "      <td>24500</td>\n",
       "    </tr>\n",
       "    <tr>\n",
       "      <th>13185</th>\n",
       "      <td>Hulimavu</td>\n",
       "      <td>1 BHK</td>\n",
       "      <td>500.0</td>\n",
       "      <td>1.0</td>\n",
       "      <td>220.0</td>\n",
       "      <td>1</td>\n",
       "      <td>44000</td>\n",
       "    </tr>\n",
       "  </tbody>\n",
       "</table>\n",
       "</div>"
      ],
      "text/plain": [
       "              location       size  total_sqft  bath   price  bhk  \\\n",
       "3420             other  3 Bedroom      1350.0   3.0   380.0    3   \n",
       "6709      Malleshwaram  4 Bedroom      4000.0   4.0  1100.0    4   \n",
       "2618      Malleshwaram  7 Bedroom      3000.0   4.0   900.0    7   \n",
       "10536            other  4 Bedroom      2400.0   4.0   595.0    4   \n",
       "1548       Uttarahalli  5 Bedroom       400.0   5.0   200.0    5   \n",
       "5909             other  5 Bedroom      1240.0   5.0   300.0    5   \n",
       "1721             other  5 Bedroom      2400.0   5.0   625.0    5   \n",
       "8861   Cunningham Road  5 Bedroom      2925.0   5.0   936.0    5   \n",
       "3340             other     19 BHK      2000.0  16.0   490.0   19   \n",
       "13185         Hulimavu      1 BHK       500.0   1.0   220.0    1   \n",
       "\n",
       "       price_per_sqft  \n",
       "3420            28148  \n",
       "6709            27500  \n",
       "2618            30000  \n",
       "10536           24791  \n",
       "1548            50000  \n",
       "5909            24193  \n",
       "1721            26041  \n",
       "8861            32000  \n",
       "3340            24500  \n",
       "13185           44000  "
      ]
     },
     "execution_count": 21,
     "metadata": {},
     "output_type": "execute_result"
    }
   ],
   "source": [
    "out2[(out2.price_per_sqft>upperlimit) | (out2.price_per_sqft<lowerlimit)].sample(10)"
   ]
  },
  {
   "cell_type": "code",
   "execution_count": 27,
   "id": "34718d65-7df5-46f9-9883-909d8fdb6300",
   "metadata": {},
   "outputs": [
    {
     "data": {
      "text/plain": [
       "(13047, 7)"
      ]
     },
     "execution_count": 27,
     "metadata": {},
     "output_type": "execute_result"
    }
   ],
   "source": [
    "out3 = out2[(out2.price_per_sqft<upperlimit) & (out2.price_per_sqft>lowerlimit)]\n",
    "out3.shape"
   ]
  },
  {
   "cell_type": "code",
   "execution_count": 29,
   "id": "f1f61287-6051-4639-b827-ec9f40dcc905",
   "metadata": {},
   "outputs": [
    {
     "data": {
      "text/plain": [
       "125"
      ]
     },
     "execution_count": 29,
     "metadata": {},
     "output_type": "execute_result"
    }
   ],
   "source": [
    "out2.shape[0] - out3.shape[0]"
   ]
  },
  {
   "cell_type": "code",
   "execution_count": 33,
   "id": "0589f207-43d1-4b21-b23c-38fa43cc41d9",
   "metadata": {},
   "outputs": [
    {
     "data": {
      "image/png": "[encoded data removed]",
      "text/plain": [
       "<Figure size 640x480 with 1 Axes>"
      ]
     },
     "metadata": {},
     "output_type": "display_data"
    }
   ],
   "source": [
    "plt.hist(out3.price_per_sqft, bins=20, rwidth=0.8)\n",
    "plt.xlabel('Price per square ft')\n",
    "plt.ylabel('Count')\n",
    "plt.show()"
   ]
  },
  {
   "cell_type": "code",
   "execution_count": 39,
   "id": "d0f0a263-a39a-4b9f-b0b3-6a61a4cad0e0",
   "metadata": {},
   "outputs": [
    {
     "data": {
      "text/plain": [
       "[<matplotlib.lines.Line2D at 0x25a9ae4b770>]"
      ]
     },
     "execution_count": 39,
     "metadata": {},
     "output_type": "execute_result"
    },
    {
     "data": {
      "image/png": "[encoded data removed]",
      "text/plain": [
       "<Figure size 640x480 with 1 Axes>"
      ]
     },
     "metadata": {},
     "output_type": "display_data"
    }
   ],
   "source": [
    "from scipy.stats import norm\n",
    "\n",
    "plt.hist(out3.price_per_sqft, bins=20, rwidth=0.8, density=True)\n",
    "plt.xlabel('Height (inches)')\n",
    "plt.ylabel('Count')\n",
    "\n",
    "rng = np.arange(-5000, out3.price_per_sqft.max(), 100)\n",
    "plt.plot(rng, norm.pdf(rng,out3.price_per_sqft.mean(),out3.price_per_sqft.std()))"
   ]
  },
  {
   "cell_type": "code",
   "execution_count": 43,
   "id": "eed8deec-e25c-4370-a22e-0a2947629e5a",
   "metadata": {},
   "outputs": [
    {
     "name": "stderr",
     "output_type": "stream",
     "text": [
      "C:\\Users\\alifa\\AppData\\Local\\Temp\\ipykernel_19164\\886749265.py:1: SettingWithCopyWarning: \n",
      "A value is trying to be set on a copy of a slice from a DataFrame.\n",
      "Try using .loc[row_indexer,col_indexer] = value instead\n",
      "\n",
      "See the caveats in the documentation: https://pandas.pydata.org/pandas-docs/stable/user_guide/indexing.html#returning-a-view-versus-a-copy\n",
      "  out2['zscore'] = (out2.price_per_sqft-out2.price_per_sqft.mean())/out2.price_per_sqft.std()\n"
     ]
    },
    {
     "data": {
      "text/html": [
       "<div>\n",
       "<style scoped>\n",
       "    .dataframe tbody tr th:only-of-type {\n",
       "        vertical-align: middle;\n",
       "    }\n",
       "\n",
       "    .dataframe tbody tr th {\n",
       "        vertical-align: top;\n",
       "    }\n",
       "\n",
       "    .dataframe thead th {\n",
       "        text-align: right;\n",
       "    }\n",
       "</style>\n",
       "<table border=\"1\" class=\"dataframe\">\n",
       "  <thead>\n",
       "    <tr style=\"text-align: right;\">\n",
       "      <th></th>\n",
       "      <th>location</th>\n",
       "      <th>size</th>\n",
       "      <th>total_sqft</th>\n",
       "      <th>bath</th>\n",
       "      <th>price</th>\n",
       "      <th>bhk</th>\n",
       "      <th>price_per_sqft</th>\n",
       "      <th>zscore</th>\n",
       "    </tr>\n",
       "  </thead>\n",
       "  <tbody>\n",
       "    <tr>\n",
       "      <th>11325</th>\n",
       "      <td>other</td>\n",
       "      <td>3 Bedroom</td>\n",
       "      <td>2800.0</td>\n",
       "      <td>3.0</td>\n",
       "      <td>400.00</td>\n",
       "      <td>3</td>\n",
       "      <td>14285</td>\n",
       "      <td>1.840451</td>\n",
       "    </tr>\n",
       "    <tr>\n",
       "      <th>445</th>\n",
       "      <td>Raja Rajeshwari Nagar</td>\n",
       "      <td>2 BHK</td>\n",
       "      <td>1295.0</td>\n",
       "      <td>2.0</td>\n",
       "      <td>55.47</td>\n",
       "      <td>2</td>\n",
       "      <td>4283</td>\n",
       "      <td>-0.574895</td>\n",
       "    </tr>\n",
       "    <tr>\n",
       "      <th>10168</th>\n",
       "      <td>other</td>\n",
       "      <td>4 BHK</td>\n",
       "      <td>2950.0</td>\n",
       "      <td>4.0</td>\n",
       "      <td>250.00</td>\n",
       "      <td>4</td>\n",
       "      <td>8474</td>\n",
       "      <td>0.437174</td>\n",
       "    </tr>\n",
       "    <tr>\n",
       "      <th>8514</th>\n",
       "      <td>Kanakpura Road</td>\n",
       "      <td>3 BHK</td>\n",
       "      <td>1592.0</td>\n",
       "      <td>3.0</td>\n",
       "      <td>125.00</td>\n",
       "      <td>3</td>\n",
       "      <td>7851</td>\n",
       "      <td>0.286728</td>\n",
       "    </tr>\n",
       "    <tr>\n",
       "      <th>3754</th>\n",
       "      <td>Kanakpura Road</td>\n",
       "      <td>3 BHK</td>\n",
       "      <td>1591.0</td>\n",
       "      <td>3.0</td>\n",
       "      <td>115.00</td>\n",
       "      <td>3</td>\n",
       "      <td>7228</td>\n",
       "      <td>0.136282</td>\n",
       "    </tr>\n",
       "    <tr>\n",
       "      <th>1169</th>\n",
       "      <td>Horamavu Agara</td>\n",
       "      <td>3 BHK</td>\n",
       "      <td>1453.0</td>\n",
       "      <td>2.0</td>\n",
       "      <td>46.48</td>\n",
       "      <td>3</td>\n",
       "      <td>3198</td>\n",
       "      <td>-0.836908</td>\n",
       "    </tr>\n",
       "    <tr>\n",
       "      <th>9585</th>\n",
       "      <td>Talaghattapura</td>\n",
       "      <td>3 BHK</td>\n",
       "      <td>1575.0</td>\n",
       "      <td>3.0</td>\n",
       "      <td>80.00</td>\n",
       "      <td>3</td>\n",
       "      <td>5079</td>\n",
       "      <td>-0.382672</td>\n",
       "    </tr>\n",
       "    <tr>\n",
       "      <th>5339</th>\n",
       "      <td>Yelahanka</td>\n",
       "      <td>2 BHK</td>\n",
       "      <td>1040.0</td>\n",
       "      <td>2.0</td>\n",
       "      <td>48.86</td>\n",
       "      <td>2</td>\n",
       "      <td>4698</td>\n",
       "      <td>-0.474679</td>\n",
       "    </tr>\n",
       "    <tr>\n",
       "      <th>10985</th>\n",
       "      <td>other</td>\n",
       "      <td>3 BHK</td>\n",
       "      <td>1451.0</td>\n",
       "      <td>3.0</td>\n",
       "      <td>68.00</td>\n",
       "      <td>3</td>\n",
       "      <td>4686</td>\n",
       "      <td>-0.477576</td>\n",
       "    </tr>\n",
       "    <tr>\n",
       "      <th>4621</th>\n",
       "      <td>Whitefield</td>\n",
       "      <td>2 BHK</td>\n",
       "      <td>1215.0</td>\n",
       "      <td>2.0</td>\n",
       "      <td>62.00</td>\n",
       "      <td>2</td>\n",
       "      <td>5102</td>\n",
       "      <td>-0.377118</td>\n",
       "    </tr>\n",
       "  </tbody>\n",
       "</table>\n",
       "</div>"
      ],
      "text/plain": [
       "                    location       size  total_sqft  bath   price  bhk  \\\n",
       "11325                  other  3 Bedroom      2800.0   3.0  400.00    3   \n",
       "445    Raja Rajeshwari Nagar      2 BHK      1295.0   2.0   55.47    2   \n",
       "10168                  other      4 BHK      2950.0   4.0  250.00    4   \n",
       "8514          Kanakpura Road      3 BHK      1592.0   3.0  125.00    3   \n",
       "3754          Kanakpura Road      3 BHK      1591.0   3.0  115.00    3   \n",
       "1169          Horamavu Agara      3 BHK      1453.0   2.0   46.48    3   \n",
       "9585          Talaghattapura      3 BHK      1575.0   3.0   80.00    3   \n",
       "5339               Yelahanka      2 BHK      1040.0   2.0   48.86    2   \n",
       "10985                  other      3 BHK      1451.0   3.0   68.00    3   \n",
       "4621              Whitefield      2 BHK      1215.0   2.0   62.00    2   \n",
       "\n",
       "       price_per_sqft    zscore  \n",
       "11325           14285  1.840451  \n",
       "445              4283 -0.574895  \n",
       "10168            8474  0.437174  \n",
       "8514             7851  0.286728  \n",
       "3754             7228  0.136282  \n",
       "1169             3198 -0.836908  \n",
       "9585             5079 -0.382672  \n",
       "5339             4698 -0.474679  \n",
       "10985            4686 -0.477576  \n",
       "4621             5102 -0.377118  "
      ]
     },
     "execution_count": 43,
     "metadata": {},
     "output_type": "execute_result"
    }
   ],
   "source": [
    "out2['zscore'] = (out2.price_per_sqft-out2.price_per_sqft.mean())/out2.price_per_sqft.std()\n",
    "out2.sample(10)"
   ]
  },
  {
   "cell_type": "code",
   "execution_count": 45,
   "id": "8e745755-40a4-46f0-976d-79ebd416c113",
   "metadata": {},
   "outputs": [
    {
     "data": {
      "text/plain": [
       "(125, 8)"
      ]
     },
     "execution_count": 45,
     "metadata": {},
     "output_type": "execute_result"
    }
   ],
   "source": [
    "outliers_z = out2[(out2.zscore < -4) | (out2.zscore>4)]\n",
    "outliers_z.shape"
   ]
  },
  {
   "cell_type": "code",
   "execution_count": 47,
   "id": "ae678a11-99a3-4f81-9cea-7441c955fb61",
   "metadata": {},
   "outputs": [
    {
     "data": {
      "text/html": [
       "<div>\n",
       "<style scoped>\n",
       "    .dataframe tbody tr th:only-of-type {\n",
       "        vertical-align: middle;\n",
       "    }\n",
       "\n",
       "    .dataframe tbody tr th {\n",
       "        vertical-align: top;\n",
       "    }\n",
       "\n",
       "    .dataframe thead th {\n",
       "        text-align: right;\n",
       "    }\n",
       "</style>\n",
       "<table border=\"1\" class=\"dataframe\">\n",
       "  <thead>\n",
       "    <tr style=\"text-align: right;\">\n",
       "      <th></th>\n",
       "      <th>location</th>\n",
       "      <th>size</th>\n",
       "      <th>total_sqft</th>\n",
       "      <th>bath</th>\n",
       "      <th>price</th>\n",
       "      <th>bhk</th>\n",
       "      <th>price_per_sqft</th>\n",
       "      <th>zscore</th>\n",
       "    </tr>\n",
       "  </thead>\n",
       "  <tbody>\n",
       "    <tr>\n",
       "      <th>13186</th>\n",
       "      <td>other</td>\n",
       "      <td>4 Bedroom</td>\n",
       "      <td>1200.0</td>\n",
       "      <td>5.0</td>\n",
       "      <td>325.0</td>\n",
       "      <td>4</td>\n",
       "      <td>27083</td>\n",
       "      <td>4.930994</td>\n",
       "    </tr>\n",
       "    <tr>\n",
       "      <th>6134</th>\n",
       "      <td>Basavangudi</td>\n",
       "      <td>6 Bedroom</td>\n",
       "      <td>1754.0</td>\n",
       "      <td>6.0</td>\n",
       "      <td>650.0</td>\n",
       "      <td>6</td>\n",
       "      <td>37058</td>\n",
       "      <td>7.339820</td>\n",
       "    </tr>\n",
       "    <tr>\n",
       "      <th>8083</th>\n",
       "      <td>other</td>\n",
       "      <td>3 BHK</td>\n",
       "      <td>2750.0</td>\n",
       "      <td>3.0</td>\n",
       "      <td>943.0</td>\n",
       "      <td>3</td>\n",
       "      <td>34290</td>\n",
       "      <td>6.671386</td>\n",
       "    </tr>\n",
       "    <tr>\n",
       "      <th>13094</th>\n",
       "      <td>other</td>\n",
       "      <td>4 Bedroom</td>\n",
       "      <td>1200.0</td>\n",
       "      <td>5.0</td>\n",
       "      <td>325.0</td>\n",
       "      <td>4</td>\n",
       "      <td>27083</td>\n",
       "      <td>4.930994</td>\n",
       "    </tr>\n",
       "    <tr>\n",
       "      <th>2371</th>\n",
       "      <td>other</td>\n",
       "      <td>5 Bedroom</td>\n",
       "      <td>3000.0</td>\n",
       "      <td>6.0</td>\n",
       "      <td>1000.0</td>\n",
       "      <td>5</td>\n",
       "      <td>33333</td>\n",
       "      <td>6.440283</td>\n",
       "    </tr>\n",
       "  </tbody>\n",
       "</table>\n",
       "</div>"
      ],
      "text/plain": [
       "          location       size  total_sqft  bath   price  bhk  price_per_sqft  \\\n",
       "13186        other  4 Bedroom      1200.0   5.0   325.0    4           27083   \n",
       "6134   Basavangudi  6 Bedroom      1754.0   6.0   650.0    6           37058   \n",
       "8083         other      3 BHK      2750.0   3.0   943.0    3           34290   \n",
       "13094        other  4 Bedroom      1200.0   5.0   325.0    4           27083   \n",
       "2371         other  5 Bedroom      3000.0   6.0  1000.0    5           33333   \n",
       "\n",
       "         zscore  \n",
       "13186  4.930994  \n",
       "6134   7.339820  \n",
       "8083   6.671386  \n",
       "13094  4.930994  \n",
       "2371   6.440283  "
      ]
     },
     "execution_count": 47,
     "metadata": {},
     "output_type": "execute_result"
    }
   ],
   "source": [
    "outliers_z.sample(5)"
   ]
  },
  {
   "cell_type": "code",
   "execution_count": 49,
   "id": "12db8f1a-121c-4505-bf7f-bd9fadd22dbb",
   "metadata": {},
   "outputs": [
    {
     "data": {
      "text/plain": [
       "(13047, 8)"
      ]
     },
     "execution_count": 49,
     "metadata": {},
     "output_type": "execute_result"
    }
   ],
   "source": [
    "out4 = out2[(out2.zscore>-4)&(out2.zscore<4)]\n",
    "out4.shape"
   ]
  },
  {
   "cell_type": "code",
   "execution_count": 51,
   "id": "0cbc959b-59f3-466b-a52d-fb2f68e7248a",
   "metadata": {},
   "outputs": [
    {
     "data": {
      "text/plain": [
       "125"
      ]
     },
     "execution_count": 51,
     "metadata": {},
     "output_type": "execute_result"
    }
   ],
   "source": [
    "out2.shape[0] - out4.shape[0]"
   ]
  },
  {
   "cell_type": "code",
   "execution_count": null,
   "id": "62630a0c-d61d-4880-ae3f-3cdd420db30d",
   "metadata": {},
   "outputs": [],
   "source": []
  }
 ],
 "metadata": {
  "kernelspec": {
   "display_name": "Python 3 (ipykernel)",
   "language": "python",
   "name": "python3"
  },
  "language_info": {
   "codemirror_mode": {
    "name": "ipython",
    "version": 3
   },
   "file_extension": ".py",
   "mimetype": "text/x-python",
   "name": "python",
   "nbconvert_exporter": "python",
   "pygments_lexer": "ipython3",
   "version": "3.12.4"
  }
 },
 "nbformat": 4,
 "nbformat_minor": 5
}
